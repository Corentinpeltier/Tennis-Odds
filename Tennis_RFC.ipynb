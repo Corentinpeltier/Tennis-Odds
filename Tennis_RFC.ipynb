{
 "cells": [
  {
   "cell_type": "code",
   "execution_count": 1,
   "id": "d2d1af03",
   "metadata": {},
   "outputs": [],
   "source": [
    "import pandas as pd\n",
    "import numpy as np\n",
    "import seaborn as sns\n",
    "import matplotlib.pyplot as plt\n",
    "from sklearn.model_selection import train_test_split\n",
    "from sklearn.preprocessing import LabelEncoder\n",
    "from sklearn.ensemble import RandomForestClassifier\n",
    "from sklearn.metrics import accuracy_score\n",
    "from sklearn.metrics import precision_score, recall_score, f1_score\n",
    "from sklearn.model_selection import RandomizedSearchCV\n",
    "from sklearn.ensemble import RandomForestClassifier\n",
    "from sklearn.impute import SimpleImputer\n",
    "from scipy.stats import randint"
   ]
  },
  {
   "cell_type": "markdown",
   "id": "5e78adbf",
   "metadata": {},
   "source": [
    "# Scraping"
   ]
  },
  {
   "cell_type": "code",
   "execution_count": 2,
   "id": "5814f560",
   "metadata": {},
   "outputs": [
    {
     "name": "stdout",
     "output_type": "stream",
     "text": [
      "5\n"
     ]
    }
   ],
   "source": [
    "url = 'https://www.tennisexplorer.com/results/?type=atp-single&year=2023&month=05&day=29'\n",
    "tables = pd.read_html(url)\n",
    "print(len(tables))"
   ]
  },
  {
   "cell_type": "code",
   "execution_count": 3,
   "id": "7fbccdc6",
   "metadata": {},
   "outputs": [
    {
     "name": "stdout",
     "output_type": "stream",
     "text": [
      "              0                 1  2    3     4    5    6    7     8      9   \\\n",
      "0    French Open       French Open  S  1.0   2.0  3.0  4.0  5.0     H      A   \n",
      "1          20:30     Sinner J. (8)  3  6.0   6.0  6.0  NaN  NaN  1.03  13.18   \n",
      "2          20:30         Muller A.  0  1.0   4.0  1.0  NaN  NaN  1.03  13.18   \n",
      "3          19:35     Van Assche L.  3  6.0   6.0  6.0  NaN  NaN  1.82   2.00   \n",
      "4          19:35     Cecchinato M.  0  1.0   1.0  3.0  NaN  NaN  1.82   2.00   \n",
      "..           ...               ... ..  ...   ...  ...  ...  ...   ...    ...   \n",
      "547        10:40   Lavagno E. (10)  1  6.0   1.0  5.0  NaN  NaN  1.91   1.79   \n",
      "548        10:40  Travaglia S. (7)  2  6.0   6.0  NaN  NaN  NaN  1.32   3.10   \n",
      "549        10:40          Forti F.  0  2.0   4.0  NaN  NaN  NaN  1.32   3.10   \n",
      "550        10:40     Sachko V. (9)  2  6.0   7.0  NaN  NaN  NaN  2.07   1.68   \n",
      "551        10:40      Fonio G. (6)  0  4.0  61.0  NaN  NaN  NaN  2.07   1.68   \n",
      "\n",
      "     10    11  \n",
      "0   NaN   NaN  \n",
      "1   NaN  info  \n",
      "2   NaN  info  \n",
      "3   NaN  info  \n",
      "4   NaN  info  \n",
      "..   ..   ...  \n",
      "547 NaN  info  \n",
      "548 NaN  info  \n",
      "549 NaN  info  \n",
      "550 NaN  info  \n",
      "551 NaN  info  \n",
      "\n",
      "[552 rows x 12 columns]\n"
     ]
    }
   ],
   "source": [
    "print(tables[0])"
   ]
  },
  {
   "cell_type": "code",
   "execution_count": 4,
   "id": "09bba5a7",
   "metadata": {},
   "outputs": [],
   "source": [
    "def scrapurl(url):\n",
    "    list_of_tables = []\n",
    "    for j in range (1, 9): # 1st month to the 9th\n",
    "        for i in range(1, 29): # 1st day to 29th \n",
    "            tables1 = pd.read_html(url+str(j)+'&day='+str(i))\n",
    "            list_of_tables.append(tables1[0])\n",
    "            i += 1\n",
    "    return list_of_tables\n",
    "\n",
    "list_of_tables = scrapurl('https://www.tennisexplorer.com/results/?type=atp-single&year=2023&month=0')\n",
    "df = pd.concat(list_of_tables)"
   ]
  },
  {
   "cell_type": "code",
   "execution_count": 5,
   "id": "6f1c7853",
   "metadata": {
    "scrolled": true
   },
   "outputs": [
    {
     "name": "stdout",
     "output_type": "stream",
     "text": [
      "           0                 1  2     3    4    5    6    7     8     9    10  \\\n",
      "0  United Cup        United Cup  S   1.0  2.0  3.0  4.0  5.0     H     A  NaN   \n",
      "1       12:55           Gojo B.  2   7.0  6.0  NaN  NaN  NaN  1.34  3.22  NaN   \n",
      "2       12:55          Coria F.  0  65.0  4.0  NaN  NaN  NaN  1.34  3.22  NaN   \n",
      "3       11:05          Evans D.  2   6.0  1.0  6.0  NaN  NaN  1.26  3.84  NaN   \n",
      "4       11:05  Ramos-Vinolas A.  1   3.0  6.0  3.0  NaN  NaN  1.26  3.84  NaN   \n",
      "\n",
      "     11  \n",
      "0   NaN  \n",
      "1  info  \n",
      "2  info  \n",
      "3  info  \n",
      "4  info  \n",
      "(50054, 12)\n"
     ]
    }
   ],
   "source": [
    "print(df.head())\n",
    "print(df.shape)"
   ]
  },
  {
   "cell_type": "markdown",
   "id": "0f86d24e",
   "metadata": {},
   "source": [
    "Here we are with the 50k lines, let's see how many games we can have for the model we'll build later."
   ]
  },
  {
   "cell_type": "markdown",
   "id": "e67ff0c3",
   "metadata": {},
   "source": [
    "# Cleaning"
   ]
  },
  {
   "cell_type": "code",
   "execution_count": 6,
   "id": "264d4d51",
   "metadata": {},
   "outputs": [],
   "source": [
    "df.to_csv('tenniscrap2.csv')"
   ]
  },
  {
   "cell_type": "code",
   "execution_count": 7,
   "id": "b9e063b0",
   "metadata": {
    "scrolled": true
   },
   "outputs": [
    {
     "name": "stdout",
     "output_type": "stream",
     "text": [
      "Int64Index([1, 2, 8, 9], dtype='int64')\n",
      "                  1  2     8     9\n",
      "0        United Cup  S     H     A\n",
      "1           Gojo B.  2  1.34  3.22\n",
      "2          Coria F.  0  1.34  3.22\n",
      "3          Evans D.  2  1.26  3.84\n",
      "4  Ramos-Vinolas A.  1  1.26  3.84\n"
     ]
    }
   ],
   "source": [
    "df = df.drop([0, 3, 4, 5, 6, 7, 10, 11], axis=1) # Get rid of useless columns\n",
    "print(df.columns)\n",
    "print(df.head())"
   ]
  },
  {
   "cell_type": "code",
   "execution_count": 8,
   "id": "1fc9ad2a",
   "metadata": {},
   "outputs": [],
   "source": [
    "df = df.rename(columns={1: 'Player 1', 2: 'Score', 8: 'Odds Player 1', 9: 'Odds Player 2'})"
   ]
  },
  {
   "cell_type": "code",
   "execution_count": 9,
   "id": "407ffd9c",
   "metadata": {},
   "outputs": [
    {
     "name": "stdout",
     "output_type": "stream",
     "text": [
      "           Player 1 Score Odds Player 1 Odds Player 2\n",
      "0        United Cup     S             H             A\n",
      "1           Gojo B.     2          1.34          3.22\n",
      "2          Coria F.     0          1.34          3.22\n",
      "3          Evans D.     2          1.26          3.84\n",
      "4  Ramos-Vinolas A.     1          1.26          3.84\n"
     ]
    }
   ],
   "source": [
    "print(df.head())"
   ]
  },
  {
   "cell_type": "markdown",
   "id": "c2d609d5",
   "metadata": {},
   "source": [
    "We create a \"Tournois\" column because as of now, the name of the tournament is in the column Player 1. \n",
    "To differ the name of a tournament and the name of player we look at the column \"Player 1\", if the string ends with a '.' or a ')', it means that it's a player because the format of the player's name is either \"Lastname\" \"First letter of the firstname.\" or the latter with the ATP rank of the player between brackets. cf \"condition *\" "
   ]
  },
  {
   "cell_type": "code",
   "execution_count": 10,
   "id": "61102a17",
   "metadata": {
    "scrolled": true
   },
   "outputs": [
    {
     "name": "stdout",
     "output_type": "stream",
     "text": [
      "         Tournois                       Player 1  \\\n",
      "0      United Cup                     United Cup   \n",
      "1            None                        Gojo B.   \n",
      "2            None                       Coria F.   \n",
      "3            None                       Evans D.   \n",
      "4            None               Ramos-Vinolas A.   \n",
      "...           ...                            ...   \n",
      "50049        None  No schedule for this day yet.   \n",
      "50050        None  No schedule for this day yet.   \n",
      "50051        None  No schedule for this day yet.   \n",
      "50052        None  No schedule for this day yet.   \n",
      "50053        None  No schedule for this day yet.   \n",
      "\n",
      "                               Score                  Odds Player 1  \\\n",
      "0                                  S                              H   \n",
      "1                                  2                           1.34   \n",
      "2                                  0                           1.34   \n",
      "3                                  2                           1.26   \n",
      "4                                  1                           1.26   \n",
      "...                              ...                            ...   \n",
      "50049  No schedule for this day yet.  No schedule for this day yet.   \n",
      "50050  No schedule for this day yet.  No schedule for this day yet.   \n",
      "50051  No schedule for this day yet.  No schedule for this day yet.   \n",
      "50052  No schedule for this day yet.  No schedule for this day yet.   \n",
      "50053  No schedule for this day yet.  No schedule for this day yet.   \n",
      "\n",
      "                       Odds Player 2  \n",
      "0                                  A  \n",
      "1                               3.22  \n",
      "2                               3.22  \n",
      "3                               3.84  \n",
      "4                               3.84  \n",
      "...                              ...  \n",
      "50049  No schedule for this day yet.  \n",
      "50050  No schedule for this day yet.  \n",
      "50051  No schedule for this day yet.  \n",
      "50052  No schedule for this day yet.  \n",
      "50053  No schedule for this day yet.  \n",
      "\n",
      "[50054 rows x 5 columns]\n"
     ]
    }
   ],
   "source": [
    "# Create the column \"Tournois\" with None default values\n",
    "df['Tournois'] = None\n",
    "\n",
    "# Reset the DF Index\n",
    "df = df.reset_index(drop=True)\n",
    "\n",
    "# Putting the \"Player 1\" value in \"Tournois\" in the condition is matched\n",
    "df.loc[~df['Player 1'].str.endswith((\".\", \")\")), 'Tournois'] = df['Player 1']\n",
    "\n",
    "# Putting \"Tournois\" in the first place\n",
    "df = df[['Tournois'] + [col for col in df.columns if col != 'Tournois']]\n",
    "\n",
    "print(df)\n"
   ]
  },
  {
   "cell_type": "code",
   "execution_count": 11,
   "id": "ac422280",
   "metadata": {},
   "outputs": [],
   "source": [
    "df = df[df['Player 1'] != \"No schedule for this day yet.\"] # Getting rid of lines with no game"
   ]
  },
  {
   "cell_type": "markdown",
   "id": "f395fb3c",
   "metadata": {},
   "source": [
    "We forwardfill (ffill) the values in the column Tournois to replace the None values by the proper values of the tournament names."
   ]
  },
  {
   "cell_type": "code",
   "execution_count": 12,
   "id": "2859fc61",
   "metadata": {
    "scrolled": true
   },
   "outputs": [
    {
     "name": "stdout",
     "output_type": "stream",
     "text": [
      "     Tournois          Player 1 Score Odds Player 1 Odds Player 2\n",
      "1  United Cup           Gojo B.     2          1.34          3.22\n",
      "2  United Cup          Coria F.     0          1.34          3.22\n",
      "3  United Cup          Evans D.     2          1.26          3.84\n",
      "4  United Cup  Ramos-Vinolas A.     1          1.26          3.84\n",
      "5  United Cup        Hurkacz H.     2          1.35          3.19\n"
     ]
    }
   ],
   "source": [
    "df['Tournois'] = df['Tournois'].fillna(method='ffill')\n",
    "df = df[df['Player 1'] != df['Tournois']]\n",
    "print(df.head())"
   ]
  },
  {
   "cell_type": "markdown",
   "id": "17349a19",
   "metadata": {},
   "source": [
    "Our main problem now is that the Players for one match are displayed one on top of the other, we want them to be next to each other in two separate columns. Before moving the players 2 in their proper column, we want to make sure we don't mix the matches, it would destroy the dataframe. To do so, we look at the odds of the games, if they are the same on two consecutive lines, it means the two lines are for the same game.\n",
    "Disclaimer : The Player 1 is always the winner, it's built like this on the website."
   ]
  },
  {
   "cell_type": "code",
   "execution_count": 13,
   "id": "9c422904",
   "metadata": {},
   "outputs": [
    {
     "name": "stdout",
     "output_type": "stream",
     "text": [
      "           Tournois         Player 1          Player 2 Score Odds Player 1  \\\n",
      "0        United Cup          Gojo B.          Coria F.     2          1.34   \n",
      "1        United Cup         Evans D.  Ramos-Vinolas A.     2          1.26   \n",
      "2        United Cup       Hurkacz H.         Bublik A.     2          1.35   \n",
      "3        United Cup      Kuzmanov D.          Bergs Z.     2          2.13   \n",
      "4        United Cup          Otte O.        Svrcina D.     2          1.41   \n",
      "...             ...              ...               ...   ...           ...   \n",
      "31158  Futures 2023           Kim D.               NaN  None          None   \n",
      "31159  Futures 2023           Kim D.               NaN  None          None   \n",
      "31160  Futures 2023          Kang J.               NaN  None          None   \n",
      "31161         Halle  Altmaier D. (4)               NaN  None          None   \n",
      "31162         Halle   Eubanks C. (7)               NaN  None          None   \n",
      "\n",
      "      Odds Player 2  \n",
      "0              3.22  \n",
      "1              3.84  \n",
      "2              3.19  \n",
      "3              1.71  \n",
      "4              2.87  \n",
      "...             ...  \n",
      "31158          None  \n",
      "31159          None  \n",
      "31160          None  \n",
      "31161          None  \n",
      "31162          None  \n",
      "\n",
      "[31163 rows x 6 columns]\n"
     ]
    }
   ],
   "source": [
    "import numpy as np\n",
    "\n",
    "# Create the Match ID Column\n",
    "df['Match ID'] = (df['Odds Player 1'] != df['Odds Player 1'].shift(1)) | (df['Odds Player 2'] != df['Odds Player 2'].shift(1))\n",
    "df['Match ID'] = df['Match ID'].cumsum()\n",
    "\n",
    "# Group by 'Match ID' and create 'Player 2'\n",
    "df_grouped = df.groupby('Match ID').agg({\n",
    "    'Tournois': 'first',\n",
    "    'Player 1': lambda x: list(x),\n",
    "    'Score': 'first',\n",
    "    'Odds Player 1': 'first',\n",
    "    'Odds Player 2': 'first'\n",
    "}).reset_index()\n",
    "\n",
    "df_grouped['Player 2'] = df_grouped['Player 1'].apply(lambda x: x[1] if len(x) > 1 else np.nan)\n",
    "df_grouped['Player 1'] = df_grouped['Player 1'].apply(lambda x: x[0])\n",
    "\n",
    "# Clean the DataFrame and reorganize columns\n",
    "df_grouped = df_grouped[['Tournois', 'Player 1', 'Player 2', 'Score', 'Odds Player 1', 'Odds Player 2']]\n",
    "\n",
    "print(df_grouped)\n"
   ]
  },
  {
   "cell_type": "code",
   "execution_count": 14,
   "id": "c24efdc2",
   "metadata": {
    "scrolled": true
   },
   "outputs": [
    {
     "name": "stdout",
     "output_type": "stream",
     "text": [
      "Tournois             0\n",
      "Player 1             0\n",
      "Player 2         14021\n",
      "Score               42\n",
      "Odds Player 1    13990\n",
      "Odds Player 2    13990\n",
      "dtype: int64\n"
     ]
    }
   ],
   "source": [
    "print(df_grouped.isnull().sum())"
   ]
  },
  {
   "cell_type": "code",
   "execution_count": 15,
   "id": "c9f86304",
   "metadata": {
    "scrolled": true
   },
   "outputs": [
    {
     "name": "stdout",
     "output_type": "stream",
     "text": [
      "Tournois          0\n",
      "Player 1          0\n",
      "Player 2         31\n",
      "Score            14\n",
      "Odds Player 1     0\n",
      "Odds Player 2     0\n",
      "dtype: int64\n",
      "     Tournois     Player 1          Player 2 Score Odds Player 1 Odds Player 2\n",
      "0  United Cup      Gojo B.          Coria F.     2          1.34          3.22\n",
      "1  United Cup     Evans D.  Ramos-Vinolas A.     2          1.26          3.84\n",
      "2  United Cup   Hurkacz H.         Bublik A.     2          1.35          3.19\n",
      "3  United Cup  Kuzmanov D.          Bergs Z.     2          2.13          1.71\n",
      "4  United Cup      Otte O.        Svrcina D.     2          1.41          2.87\n"
     ]
    }
   ],
   "source": [
    "# Getting rid of games without both odds\n",
    "df = df_grouped.dropna(subset=['Odds Player 1', 'Odds Player 2']) \n",
    "print(df.isnull().sum())\n",
    "print(df.head())"
   ]
  },
  {
   "cell_type": "markdown",
   "id": "4fa4a84b",
   "metadata": {},
   "source": [
    "Now we wanna add a bit more info with ATP Ranks of all the players, even though it's hard to update it regularly, the rankings are not meant to change everyday so we'll proxy them for the whole year."
   ]
  },
  {
   "cell_type": "code",
   "execution_count": 16,
   "id": "da6add89",
   "metadata": {
    "scrolled": true
   },
   "outputs": [
    {
     "name": "stdout",
     "output_type": "stream",
     "text": [
      "   Rank              Player\n",
      "0     1      Novak Djokovic\n",
      "1     2      Carlos Alcaraz\n",
      "2     3     Daniil Medvedev\n",
      "3     4       Jannik Sinner\n",
      "4     5  Stefanos Tsitsipas\n"
     ]
    }
   ],
   "source": [
    "df_atp = pd.read_csv('/Users/corentinlequeux-peltier/Desktop/ATP.csv')\n",
    "print(df_atp.head())"
   ]
  },
  {
   "cell_type": "markdown",
   "id": "5f477922",
   "metadata": {},
   "source": [
    "The problem here is that the names of the players don't match in the two Dataframes."
   ]
  },
  {
   "cell_type": "code",
   "execution_count": 17,
   "id": "5a8758d3",
   "metadata": {},
   "outputs": [
    {
     "name": "stdout",
     "output_type": "stream",
     "text": [
      "     Tournois  Player 1       Player 2 Score Odds Player 1 Odds Player 2\n",
      "0  United Cup      Gojo          Coria     2          1.34          3.22\n",
      "1  United Cup     Evans  Ramos-Vinolas     2          1.26          3.84\n",
      "2  United Cup   Hurkacz         Bublik     2          1.35          3.19\n",
      "3  United Cup  Kuzmanov          Bergs     2          2.13          1.71\n",
      "4  United Cup      Otte        Svrcina     2          1.41          2.87\n",
      "   Rank              Player        Nom\n",
      "0     1      Novak Djokovic   Djokovic\n",
      "1     2      Carlos Alcaraz    Alcaraz\n",
      "2     3     Daniil Medvedev   Medvedev\n",
      "3     4       Jannik Sinner     Sinner\n",
      "4     5  Stefanos Tsitsipas  Tsitsipas\n"
     ]
    }
   ],
   "source": [
    "# Preparing the ATP Dataframe\n",
    "df_atp[['Prenom', 'Nom']] = df_atp['Player'].str.split(' ', 1, expand=True)\n",
    "df_atp = df_atp.drop('Prenom', axis=1)  # Deleting the firstname column, not so useful\n",
    "\n",
    "df = df.copy()\n",
    "\n",
    "# Spliting the Names so the columns of the two Dataframes can match\n",
    "df.loc[:, 'Player 1'] = df['Player 1'].str.split(' ', 1, expand=True)[0]\n",
    "df.loc[:, 'Player 2'] = df['Player 2'].str.split(' ', 1, expand=True)[0]\n",
    "\n",
    "print(df.head())\n",
    "print(df_atp.head())"
   ]
  },
  {
   "cell_type": "code",
   "execution_count": 18,
   "id": "48f34bc2",
   "metadata": {},
   "outputs": [
    {
     "name": "stdout",
     "output_type": "stream",
     "text": [
      "     Tournois  Player 1       Player 2 Score Odds Player 1 Odds Player 2  \\\n",
      "0  United Cup      Gojo          Coria     2          1.34          3.22   \n",
      "1  United Cup     Evans  Ramos-Vinolas     2          1.26          3.84   \n",
      "2  United Cup   Hurkacz         Bublik     2          1.35          3.19   \n",
      "3  United Cup  Kuzmanov          Bergs     2          2.13          1.71   \n",
      "4  United Cup      Otte        Svrcina     2          1.41          2.87   \n",
      "\n",
      "    Rank            Player       Nom  Rank_y          Player_y    Nom_y  \n",
      "0  115.0        Borna Gojo      Gojo   137.0    Federico Coria    Coria  \n",
      "1   68.0      Daniel Evans     Evans     NaN               NaN      NaN  \n",
      "2   16.0    Hubert Hurkacz   Hurkacz    94.0  Alexander Bublik   Bublik  \n",
      "3  234.0  Dimitar Kuzmanov  Kuzmanov   160.0       Zizou Bergs    Bergs  \n",
      "4  141.0        Oscar Otte      Otte   175.0   Dalibor Svrcina  Svrcina  \n"
     ]
    }
   ],
   "source": [
    "# Merging for the Player 1 rank\n",
    "df = df.merge(df_atp, left_on='Player 1', right_on='Nom', how='left', suffixes=('', '_x'))\n",
    "df = df.rename(columns={'rank': 'Rank Player 1'})\n",
    "\n",
    "# Merging for the Player 2 rank\n",
    "df = df.merge(df_atp, left_on='Player 2', right_on='Nom', how='left', suffixes=('', '_y'))\n",
    "df = df.rename(columns={'rank': 'Rank Player 2'})\n",
    "\n",
    "print(df.head())\n"
   ]
  },
  {
   "cell_type": "code",
   "execution_count": 19,
   "id": "0d483c86",
   "metadata": {},
   "outputs": [
    {
     "name": "stdout",
     "output_type": "stream",
     "text": [
      "Index(['Tournois', 'Player 1', 'Player 2', 'Score', 'Odds Player 1',\n",
      "       'Odds Player 2', 'Rank', 'Player', 'Nom', 'Rank_y', 'Player_y',\n",
      "       'Nom_y'],\n",
      "      dtype='object')\n"
     ]
    }
   ],
   "source": [
    "print(df.columns)"
   ]
  },
  {
   "cell_type": "code",
   "execution_count": 20,
   "id": "94b44f72",
   "metadata": {},
   "outputs": [
    {
     "name": "stdout",
     "output_type": "stream",
     "text": [
      "     Tournois  Player 1       Player 2 Score Odds Player 1 Odds Player 2  \\\n",
      "0  United Cup      Gojo          Coria     2          1.34          3.22   \n",
      "1  United Cup     Evans  Ramos-Vinolas     2          1.26          3.84   \n",
      "2  United Cup   Hurkacz         Bublik     2          1.35          3.19   \n",
      "3  United Cup  Kuzmanov          Bergs     2          2.13          1.71   \n",
      "4  United Cup      Otte        Svrcina     2          1.41          2.87   \n",
      "\n",
      "    Rank  Rank_y  \n",
      "0  115.0   137.0  \n",
      "1   68.0     NaN  \n",
      "2   16.0    94.0  \n",
      "3  234.0   160.0  \n",
      "4  141.0   175.0  \n"
     ]
    }
   ],
   "source": [
    "df = df.iloc[:, [0, 1, 2, 3, 4, 5, 6, 9]] # Keeping the columns we want only\n",
    "print(df.head())"
   ]
  },
  {
   "cell_type": "code",
   "execution_count": 21,
   "id": "91d7fd03",
   "metadata": {},
   "outputs": [
    {
     "name": "stdout",
     "output_type": "stream",
     "text": [
      "     Tournois  Player 1       Player 2 Score Odds Player 1 Odds Player 2  \\\n",
      "0  United Cup      Gojo          Coria     2          1.34          3.22   \n",
      "1  United Cup     Evans  Ramos-Vinolas     2          1.26          3.84   \n",
      "2  United Cup   Hurkacz         Bublik     2          1.35          3.19   \n",
      "3  United Cup  Kuzmanov          Bergs     2          2.13          1.71   \n",
      "4  United Cup      Otte        Svrcina     2          1.41          2.87   \n",
      "\n",
      "   Rank Player 1  Rank Player 2  \n",
      "0          115.0          137.0  \n",
      "1           68.0            NaN  \n",
      "2           16.0           94.0  \n",
      "3          234.0          160.0  \n",
      "4          141.0          175.0  \n"
     ]
    }
   ],
   "source": [
    "df = df.rename(columns={'Rank': 'Rank Player 1'})\n",
    "df = df.rename(columns={'Rank_y': 'Rank Player 2'})\n",
    "print(df.head())"
   ]
  },
  {
   "cell_type": "code",
   "execution_count": 22,
   "id": "9bc8c886",
   "metadata": {},
   "outputs": [
    {
     "name": "stdout",
     "output_type": "stream",
     "text": [
      "Tournois          object\n",
      "Player 1          object\n",
      "Player 2          object\n",
      "Score             object\n",
      "Odds Player 1     object\n",
      "Odds Player 2     object\n",
      "Rank Player 1    float64\n",
      "Rank Player 2    float64\n",
      "dtype: object\n",
      "Indices où 'H' est présent dans 'Odds Player 1': (array([  750,   879,   999,  8927,  9109,  9143,  9279,  9451,  9566,\n",
      "        9639,  9689, 10440, 10454, 10476, 10636, 10712, 10727, 10818,\n",
      "       10826, 10867, 10872, 11014, 11019, 11135, 11140, 11201, 11205,\n",
      "       11241, 11243]),)\n"
     ]
    }
   ],
   "source": [
    "print(df.dtypes)\n",
    "indices_1 = np.where(df['Odds Player 1'] == 'H')\n",
    "print(\"Indices où 'H' est présent dans 'Odds Player 1':\", indices_1)"
   ]
  },
  {
   "cell_type": "code",
   "execution_count": 23,
   "id": "a9494002",
   "metadata": {},
   "outputs": [
    {
     "name": "stdout",
     "output_type": "stream",
     "text": [
      "Indices où 'H' est présent dans 'Odds Player 1': (array([  750,   879,   999,  8927,  9109,  9143,  9279,  9451,  9566,\n",
      "        9639,  9689, 10440, 10454, 10476, 10636, 10712, 10727, 10818,\n",
      "       10826, 10867, 10872, 11014, 11019, 11135, 11140, 11201, 11205,\n",
      "       11241, 11243]),)\n"
     ]
    }
   ],
   "source": [
    "df = df[df['Odds Player 1'] != 'H']\n",
    "print(\"Indices où 'H' est présent dans 'Odds Player 1':\", indices_1)"
   ]
  },
  {
   "cell_type": "code",
   "execution_count": 24,
   "id": "46349e28",
   "metadata": {
    "scrolled": false
   },
   "outputs": [
    {
     "name": "stdout",
     "output_type": "stream",
     "text": [
      "     Tournois  Player 1       Player 2 Score Odds Player 1 Odds Player 2  \\\n",
      "0  United Cup      Gojo          Coria     2          1.34          3.22   \n",
      "1  United Cup     Evans  Ramos-Vinolas     2          1.26          3.84   \n",
      "2  United Cup   Hurkacz         Bublik     2          1.35          3.19   \n",
      "3  United Cup  Kuzmanov          Bergs     2          2.13          1.71   \n",
      "4  United Cup      Otte        Svrcina     2          1.41          2.87   \n",
      "\n",
      "   Rank Player 1  Rank Player 2  \n",
      "0          115.0          137.0  \n",
      "1           68.0            NaN  \n",
      "2           16.0           94.0  \n",
      "3          234.0          160.0  \n",
      "4          141.0          175.0  \n"
     ]
    }
   ],
   "source": [
    "print(df.head())"
   ]
  },
  {
   "cell_type": "markdown",
   "id": "7bb4cdf3",
   "metadata": {},
   "source": [
    "Now we're going to think more about our model. The thing we want to assess here is weather the favorite won the game or not. As we said before, the Player 1 is always the winner. We're creating a column \"Favorite Won\" that is 1 the player with the smallest odds wins and 0 if not."
   ]
  },
  {
   "cell_type": "code",
   "execution_count": 25,
   "id": "c15e4fa6",
   "metadata": {},
   "outputs": [],
   "source": [
    "df['Favorite Won'] = (df['Odds Player 1'] < df['Odds Player 2']).astype(int)"
   ]
  },
  {
   "cell_type": "code",
   "execution_count": 26,
   "id": "5c8e3766",
   "metadata": {},
   "outputs": [
    {
     "name": "stdout",
     "output_type": "stream",
     "text": [
      "     Tournois  Player 1       Player 2 Score Odds Player 1 Odds Player 2  \\\n",
      "0  United Cup      Gojo          Coria     2          1.34          3.22   \n",
      "1  United Cup     Evans  Ramos-Vinolas     2          1.26          3.84   \n",
      "2  United Cup   Hurkacz         Bublik     2          1.35          3.19   \n",
      "3  United Cup  Kuzmanov          Bergs     2          2.13          1.71   \n",
      "4  United Cup      Otte        Svrcina     2          1.41          2.87   \n",
      "\n",
      "   Rank Player 1  Rank Player 2  Favorite Won  \n",
      "0          115.0          137.0             1  \n",
      "1           68.0            NaN             1  \n",
      "2           16.0           94.0             1  \n",
      "3          234.0          160.0             0  \n",
      "4          141.0          175.0             1  \n",
      "Tournois          object\n",
      "Player 1          object\n",
      "Player 2          object\n",
      "Score             object\n",
      "Odds Player 1     object\n",
      "Odds Player 2     object\n",
      "Rank Player 1    float64\n",
      "Rank Player 2    float64\n",
      "Favorite Won       int64\n",
      "dtype: object\n"
     ]
    }
   ],
   "source": [
    "print(df.head())\n",
    "print(df.dtypes)\n",
    "df['Odds Player 1'] = pd.to_numeric(df['Odds Player 1'], errors='coerce')\n",
    "df['Odds Player 2'] = pd.to_numeric(df['Odds Player 2'], errors='coerce')\n"
   ]
  },
  {
   "cell_type": "code",
   "execution_count": 27,
   "id": "da5dfd57",
   "metadata": {},
   "outputs": [
    {
     "name": "stdout",
     "output_type": "stream",
     "text": [
      "Tournois          object\n",
      "Player 1          object\n",
      "Player 2          object\n",
      "Score             object\n",
      "Odds Player 1    float64\n",
      "Odds Player 2    float64\n",
      "Rank Player 1    float64\n",
      "Rank Player 2    float64\n",
      "Favorite Won       int64\n",
      "dtype: object\n"
     ]
    }
   ],
   "source": [
    "print(df.dtypes)\n",
    "df.to_csv('Tenniscrap3.csv')"
   ]
  },
  {
   "cell_type": "markdown",
   "id": "fc36c9ef",
   "metadata": {},
   "source": [
    "# Model"
   ]
  },
  {
   "cell_type": "code",
   "execution_count": 28,
   "id": "37c350dc",
   "metadata": {},
   "outputs": [],
   "source": [
    "label_encoder = LabelEncoder() # Turning categorical features into something the program can understand\n",
    "\n",
    "categorical_features = ['Tournois', 'Player 1', 'Player 2', 'Score']\n",
    "for col in categorical_features:\n",
    "    df[col] = label_encoder.fit_transform(df[col])"
   ]
  },
  {
   "cell_type": "code",
   "execution_count": 29,
   "id": "7a53caff",
   "metadata": {},
   "outputs": [],
   "source": [
    "X = df.drop('Favorite Won', axis=1) # Features\n",
    "y = df['Favorite Won'] # Target\n",
    "\n",
    "# Train and test sets\n",
    "X_train, X_test, y_train, y_test = train_test_split(X, y, test_size=0.2, random_state=42)"
   ]
  },
  {
   "cell_type": "code",
   "execution_count": 30,
   "id": "6023f4df",
   "metadata": {},
   "outputs": [
    {
     "data": {
      "text/html": [
       "<style>#sk-container-id-1 {color: black;background-color: white;}#sk-container-id-1 pre{padding: 0;}#sk-container-id-1 div.sk-toggleable {background-color: white;}#sk-container-id-1 label.sk-toggleable__label {cursor: pointer;display: block;width: 100%;margin-bottom: 0;padding: 0.3em;box-sizing: border-box;text-align: center;}#sk-container-id-1 label.sk-toggleable__label-arrow:before {content: \"▸\";float: left;margin-right: 0.25em;color: #696969;}#sk-container-id-1 label.sk-toggleable__label-arrow:hover:before {color: black;}#sk-container-id-1 div.sk-estimator:hover label.sk-toggleable__label-arrow:before {color: black;}#sk-container-id-1 div.sk-toggleable__content {max-height: 0;max-width: 0;overflow: hidden;text-align: left;background-color: #f0f8ff;}#sk-container-id-1 div.sk-toggleable__content pre {margin: 0.2em;color: black;border-radius: 0.25em;background-color: #f0f8ff;}#sk-container-id-1 input.sk-toggleable__control:checked~div.sk-toggleable__content {max-height: 200px;max-width: 100%;overflow: auto;}#sk-container-id-1 input.sk-toggleable__control:checked~label.sk-toggleable__label-arrow:before {content: \"▾\";}#sk-container-id-1 div.sk-estimator input.sk-toggleable__control:checked~label.sk-toggleable__label {background-color: #d4ebff;}#sk-container-id-1 div.sk-label input.sk-toggleable__control:checked~label.sk-toggleable__label {background-color: #d4ebff;}#sk-container-id-1 input.sk-hidden--visually {border: 0;clip: rect(1px 1px 1px 1px);clip: rect(1px, 1px, 1px, 1px);height: 1px;margin: -1px;overflow: hidden;padding: 0;position: absolute;width: 1px;}#sk-container-id-1 div.sk-estimator {font-family: monospace;background-color: #f0f8ff;border: 1px dotted black;border-radius: 0.25em;box-sizing: border-box;margin-bottom: 0.5em;}#sk-container-id-1 div.sk-estimator:hover {background-color: #d4ebff;}#sk-container-id-1 div.sk-parallel-item::after {content: \"\";width: 100%;border-bottom: 1px solid gray;flex-grow: 1;}#sk-container-id-1 div.sk-label:hover label.sk-toggleable__label {background-color: #d4ebff;}#sk-container-id-1 div.sk-serial::before {content: \"\";position: absolute;border-left: 1px solid gray;box-sizing: border-box;top: 0;bottom: 0;left: 50%;z-index: 0;}#sk-container-id-1 div.sk-serial {display: flex;flex-direction: column;align-items: center;background-color: white;padding-right: 0.2em;padding-left: 0.2em;position: relative;}#sk-container-id-1 div.sk-item {position: relative;z-index: 1;}#sk-container-id-1 div.sk-parallel {display: flex;align-items: stretch;justify-content: center;background-color: white;position: relative;}#sk-container-id-1 div.sk-item::before, #sk-container-id-1 div.sk-parallel-item::before {content: \"\";position: absolute;border-left: 1px solid gray;box-sizing: border-box;top: 0;bottom: 0;left: 50%;z-index: -1;}#sk-container-id-1 div.sk-parallel-item {display: flex;flex-direction: column;z-index: 1;position: relative;background-color: white;}#sk-container-id-1 div.sk-parallel-item:first-child::after {align-self: flex-end;width: 50%;}#sk-container-id-1 div.sk-parallel-item:last-child::after {align-self: flex-start;width: 50%;}#sk-container-id-1 div.sk-parallel-item:only-child::after {width: 0;}#sk-container-id-1 div.sk-dashed-wrapped {border: 1px dashed gray;margin: 0 0.4em 0.5em 0.4em;box-sizing: border-box;padding-bottom: 0.4em;background-color: white;}#sk-container-id-1 div.sk-label label {font-family: monospace;font-weight: bold;display: inline-block;line-height: 1.2em;}#sk-container-id-1 div.sk-label-container {text-align: center;}#sk-container-id-1 div.sk-container {/* jupyter's `normalize.less` sets `[hidden] { display: none; }` but bootstrap.min.css set `[hidden] { display: none !important; }` so we also need the `!important` here to be able to override the default hidden behavior on the sphinx rendered scikit-learn.org. See: https://github.com/scikit-learn/scikit-learn/issues/21755 */display: inline-block !important;position: relative;}#sk-container-id-1 div.sk-text-repr-fallback {display: none;}</style><div id=\"sk-container-id-1\" class=\"sk-top-container\"><div class=\"sk-text-repr-fallback\"><pre>RandomForestClassifier(random_state=42)</pre><b>In a Jupyter environment, please rerun this cell to show the HTML representation or trust the notebook. <br />On GitHub, the HTML representation is unable to render, please try loading this page with nbviewer.org.</b></div><div class=\"sk-container\" hidden><div class=\"sk-item\"><div class=\"sk-estimator sk-toggleable\"><input class=\"sk-toggleable__control sk-hidden--visually\" id=\"sk-estimator-id-1\" type=\"checkbox\" checked><label for=\"sk-estimator-id-1\" class=\"sk-toggleable__label sk-toggleable__label-arrow\">RandomForestClassifier</label><div class=\"sk-toggleable__content\"><pre>RandomForestClassifier(random_state=42)</pre></div></div></div></div></div>"
      ],
      "text/plain": [
       "RandomForestClassifier(random_state=42)"
      ]
     },
     "execution_count": 30,
     "metadata": {},
     "output_type": "execute_result"
    }
   ],
   "source": [
    "# Had a NaN value in X_train and X_test, didn't really know if I should drop them or fill\n",
    "imputer = SimpleImputer(strategy='most_frequent') \n",
    "imputer = SimpleImputer(missing_values=np.nan, strategy='mean')\n",
    "\n",
    "imputer.fit(X_train)\n",
    "\n",
    "X_train = imputer.transform(X_train)\n",
    "X_test = imputer.transform(X_test)\n",
    "\n",
    "clf = RandomForestClassifier(n_estimators=100, random_state=42)\n",
    "clf.fit(X_train, y_train)"
   ]
  },
  {
   "cell_type": "code",
   "execution_count": 31,
   "id": "1c85d82e",
   "metadata": {},
   "outputs": [
    {
     "name": "stdout",
     "output_type": "stream",
     "text": [
      "Accuracy: 0.9988489208633093\n"
     ]
    }
   ],
   "source": [
    "y_pred = clf.predict(X_test)\n",
    "print(\"Accuracy:\", accuracy_score(y_test, y_pred))"
   ]
  },
  {
   "cell_type": "code",
   "execution_count": 32,
   "id": "023b8a33",
   "metadata": {},
   "outputs": [
    {
     "name": "stdout",
     "output_type": "stream",
     "text": [
      "Precision:  0.9995901639344262\n",
      "Recall:  0.9987714987714987\n",
      "F1 Score:  0.9991806636624335\n"
     ]
    }
   ],
   "source": [
    "y_pred = clf.predict(X_test)\n",
    "precision = precision_score(y_test, y_pred)\n",
    "recall = recall_score(y_test, y_pred)\n",
    "f1 = f1_score(y_test, y_pred)\n",
    "\n",
    "print(\"Precision: \", precision)\n",
    "print(\"Recall: \", recall)\n",
    "print(\"F1 Score: \", f1)"
   ]
  },
  {
   "cell_type": "code",
   "execution_count": null,
   "id": "84625bc1",
   "metadata": {},
   "outputs": [],
   "source": []
  }
 ],
 "metadata": {
  "kernelspec": {
   "display_name": "Python 3 (ipykernel)",
   "language": "python",
   "name": "python3"
  },
  "language_info": {
   "codemirror_mode": {
    "name": "ipython",
    "version": 3
   },
   "file_extension": ".py",
   "mimetype": "text/x-python",
   "name": "python",
   "nbconvert_exporter": "python",
   "pygments_lexer": "ipython3",
   "version": "3.9.13"
  }
 },
 "nbformat": 4,
 "nbformat_minor": 5
}
